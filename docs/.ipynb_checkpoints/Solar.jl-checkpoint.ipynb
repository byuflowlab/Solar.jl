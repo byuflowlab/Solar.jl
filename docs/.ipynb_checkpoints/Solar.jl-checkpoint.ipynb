{
 "cells": [
  {
   "cell_type": "markdown",
   "metadata": {},
   "source": [
    "# Solar.jl\n",
    "The solar.jl package includes various methods related to solar energy capture via photo-voltaic panels.  Although initially implemented for use in solar-powered aircraft, and many of the variable names in the source code come from aeronautics applications, the methods contained herein are applicable to areas outside of aeronautics.\n",
    "\n",
    "There are two main components to the Solar.jl package:\n",
    "1. The Definition of the immutable composite types: panelgeometry and panelphysics.\n",
    "2. Methods for calculating flux, power, current, voltage, etc. for user defined solar array configurations.\n",
    "\n",
    "## panelgeometry type\n",
    "The panelgeometry type is defined as follows:"
   ]
  },
  {
   "cell_type": "code",
   "execution_count": 1,
   "metadata": {
    "collapsed": true
   },
   "outputs": [],
   "source": [
    "struct panel\n",
    "\tnormal::Array{Float32,1}(3)\n",
    "\tchord::Float32\n",
    "\tspan::Float32\n",
    "\tarea::Float32\n",
    "\troll::Float32\n",
    "\tpitch::Float32\n",
    "\tyaw::Float32\n",
    "end"
   ]
  },
  {
   "cell_type": "markdown",
   "metadata": {},
   "source": [
    "Below are detailed descriptions of the fields in the panelgeometry struct.\n",
    "\n",
    "### normal\n",
    "The 3-dimensional normal vector of the panel.\n",
    "\n",
    "### chord and span\n",
    "Because solar cells are typically rectangular, the panels defined in the panel type are also rectangular. The chord and span fields define the length and width of the panel. The chord is the distance along the x-axis of the body frame axis system of the aircraft (or on whatever the panel may be mounted) rotated about the y-axis by the pitch angle, while the span is the length along the y-axis of the body frame, rotated about the x-axis by the roll angle (see figure below).\n",
    "\n",
    "[figure showing axis systems]\n",
    "\n",
    "### area\n",
    "Rectangular area defined by the product of the chord and span.\n",
    "\n",
    "### roll\n",
    "Angle of rotation about the y-axis of the body frame axis system\n",
    "\n",
    "### pitch\n",
    "Angle of rotation about the x-axis of the body frame axis system\n",
    "\n",
    "### yaw\n",
    "Angle of rotation about the z-axis of the body frame axis system\n",
    "\n",
    "## panelphysics type\n",
    "The panelphysics type is defined as follows:"
   ]
  },
  {
   "cell_type": "markdown",
   "metadata": {},
   "source": [
    "struct panelphysics\n",
    "\tflux::Array{Float32,2}\n",
    "\tpower::Array{Float32,2}\n",
    "\tenergy::Array{Float32,2}\n",
    "end #energy type"
   ]
  },
  {
   "cell_type": "markdown",
   "metadata": {},
   "source": [
    "Below are detailed descriptions of the fields in the panelphyscis struct.\n",
    "\n",
    "### flux\n",
    "\n",
    "### power\n",
    "\n",
    "### energy\n",
    "\n",
    "## Energy Calculation Methods\n",
    "\n",
    "### Flux Methods"
   ]
  }
 ],
 "metadata": {
  "kernelspec": {
   "display_name": "Julia 0.6.0",
   "language": "julia",
   "name": "julia-0.6"
  },
  "language_info": {
   "file_extension": ".jl",
   "mimetype": "application/julia",
   "name": "julia",
   "version": "0.6.0"
  }
 },
 "nbformat": 4,
 "nbformat_minor": 2
}
